{
  "cells": [
    {
      "cell_type": "markdown",
      "source": [
        "1. This code block opens the mnist training file and enters the images into a matrix. The mnist_train_small.csv is a collection of handwritten digits. Then I demean the data and perform a singular value decomposition on the data. For this program, I am using only the first 100 principal components. I then create a matrix containing all of the weights of the images in each of the 100 principal components."
      ],
      "metadata": {
        "id": "cup0e5gmk40I"
      }
    },
    {
      "cell_type": "code",
      "source": [
        "import numpy as np\n",
        "import matplotlib.pyplot as plt\n",
        "import csv\n",
        "from ast import Num\n",
        "from ipywidgets import interact\n",
        "\n",
        "\n",
        "from ast import Num\n",
        "file = \"sample_data/mnist_train_small.csv\"\n",
        "with open(file, 'r') as f:\n",
        "  reader = csv.reader(f,delimiter=',')\n",
        "  raw_data = np.array(list(reader)).astype(np.float)\n",
        "X = raw_data[:,1:]\n",
        "num_vec = raw_data[:,0].astype(np.int)\n",
        "\n",
        "\n",
        "sum = X[0,:]\n",
        "for i in range(1,X.shape[0]):\n",
        "  sum = sum+X[i,:]\n",
        "avg = sum/X.shape[0]\n",
        "for i in range (0,X.shape[0]):\n",
        "  X[i,:] = X[i,:] - avg\n",
        "\n",
        "U, S, Vt = np.linalg.svd(X)\n",
        "\n",
        "V = Vt.T\n",
        "\n",
        "V = np.delete(V, np.s_[100:],1)\n",
        "\n",
        "img0 = X[0,:].reshape(X.shape[1],1)\n",
        "num_vec = num_vec.reshape(X.shape[0],)\n",
        "\n",
        "numvec = V.T@X[0,:].reshape(X.shape[1],1)\n",
        "\n",
        "for i in range(1, X.shape[1]):\n",
        "  temp = V.T@X[i,:].reshape(X.shape[1],1)\n",
        "  numvec = np.append(numvec, temp, axis = 1)\n",
        "\n",
        "proj = X@V\n",
        "\n",
        "\n",
        "\n",
        "\n",
        "\n",
        "\n"
      ],
      "metadata": {
        "id": "aROVsZGBcNpY"
      },
      "execution_count": 7,
      "outputs": []
    },
    {
      "cell_type": "markdown",
      "source": [
        "2. This code block opens a testing set of images with different handwritten digits and puts them into a matrix. I then perform a singular value decomposition on the data and find the weights of the testing data in each of the principal components."
      ],
      "metadata": {
        "id": "7C3ectveldtI"
      }
    },
    {
      "cell_type": "code",
      "source": [
        "from enum import EnumMeta\n",
        "from ast import Num\n",
        "file = \"sample_data/mnist_test.csv\"\n",
        "with open(file, 'r') as f:\n",
        "  reader = csv.reader(f,delimiter=',')\n",
        "  raw_data = np.array(list(reader)).astype(np.float)\n",
        "Y = raw_data[:,1:]\n",
        "numbers = raw_data[:,0].astype(np.int)\n",
        "numbers = num_vec.reshape(X.shape[0],)\n",
        "\n",
        "sum = Y[0,:]\n",
        "for i in range(1,Y.shape[0]):\n",
        "  sum = sum+Y[i,:]\n",
        "avg = sum/Y.shape[0]\n",
        "for i in range (0,Y.shape[0]):\n",
        "  Y[i,:] = Y[i,:] - avg\n",
        "\n",
        "\n",
        "U,S,E = np.linalg.svd(Y)\n",
        "E=E.T\n",
        "E = np.delete(V, np.s_[100:],1)\n",
        "\n",
        "enums = Y@E\n",
        "\n",
        " "
      ],
      "metadata": {
        "id": "yhE-HRKhcNNp"
      },
      "execution_count": 6,
      "outputs": []
    },
    {
      "cell_type": "markdown",
      "source": [
        "3. Allows the user to choose an image from the testing database for the computer to analyze."
      ],
      "metadata": {
        "id": "D18J7AxQmgBB"
      }
    },
    {
      "cell_type": "code",
      "source": [
        "y = input(\"Which image would you like to test (0-9999)?: \")\n",
        "plt.imshow(Y[int(y),:].reshape(28,28))\n"
      ],
      "metadata": {
        "colab": {
          "base_uri": "https://localhost:8080/",
          "height": 300
        },
        "id": "-GH1CO6KSnUi",
        "outputId": "c1af803f-bf05-4d56-dfd2-96085d0079c7"
      },
      "execution_count": 16,
      "outputs": [
        {
          "name": "stdout",
          "output_type": "stream",
          "text": [
            "Which image would you like to test (0-9999)?: 200\n"
          ]
        },
        {
          "output_type": "execute_result",
          "data": {
            "text/plain": [
              "<matplotlib.image.AxesImage at 0x7fb8115eca90>"
            ]
          },
          "metadata": {},
          "execution_count": 16
        },
        {
          "output_type": "display_data",
          "data": {
            "image/png": "[encoded data removed]",
            "text/plain": [
              "<Figure size 432x288 with 1 Axes>"
            ]
          },
          "metadata": {
            "needs_background": "light"
          }
        }
      ]
    },
    {
      "cell_type": "markdown",
      "source": [
        "4. Runs through the training data set to find the image with the most similar principal component weights. It then retrieves the number from the training dataset."
      ],
      "metadata": {
        "id": "YiX49YPppJGA"
      }
    },
    {
      "cell_type": "code",
      "source": [
        "img = enums[int(y),:]\n",
        "\n",
        "best = np.zeros(100)\n",
        "\n",
        "pc=-1\n",
        "\n",
        "for i in range(0,proj.shape[0]):\n",
        "  c = proj[i,:]\n",
        "  if np.linalg.norm(best-img) > np.linalg.norm(c-img):\n",
        "    best = c\n",
        "    pc=num_vec[i]\n",
        "\n",
        "print(pc)\n",
        "  "
      ],
      "metadata": {
        "colab": {
          "base_uri": "https://localhost:8080/"
        },
        "id": "TuWTyR3zTDYa",
        "outputId": "ad824c65-b7b2-40c8-b82c-cec6c55bf7a2"
      },
      "execution_count": 17,
      "outputs": [
        {
          "output_type": "stream",
          "name": "stdout",
          "text": [
            "3\n"
          ]
        }
      ]
    },
    {
      "cell_type": "markdown",
      "metadata": {
        "id": "fzlBZztb8O70"
      },
      "source": [
        ""
      ]
    }
  ],
  "metadata": {
    "colab": {
      "name": "NumberDetector.ipynb",
      "provenance": [],
      "collapsed_sections": []
    },
    "kernelspec": {
      "display_name": "Python 3",
      "name": "python3"
    },
    "language_info": {
      "name": "python"
    }
  },
  "nbformat": 4,
  "nbformat_minor": 0
}