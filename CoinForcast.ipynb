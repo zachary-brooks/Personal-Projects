{
  "nbformat": 4,
  "nbformat_minor": 0,
  "metadata": {
    "colab": {
      "name": "CoinForcast.ipynb",
      "provenance": []
    },
    "kernelspec": {
      "name": "python3",
      "display_name": "Python 3"
    },
    "language_info": {
      "name": "python"
    }
  },
  "cells": [
    {
      "cell_type": "markdown",
      "source": [
        "1. This code block opens a csv file from yahoo finance and converts that data into a matrix. The data being used is ethereum opening and closing prices."
      ],
      "metadata": {
        "id": "A4PYwmQyDfiY"
      }
    },
    {
      "cell_type": "code",
      "execution_count": 14,
      "metadata": {
        "id": "FNO_GwnH5pyL"
      },
      "outputs": [],
      "source": [
        "import numpy as np\n",
        "import matplotlib.pyplot as plt\n",
        "import csv\n",
        "from ast import Num\n",
        "from ast import Num\n",
        "\n",
        "filename = \"ETH-USD (4).csv\"\n",
        "fields = []\n",
        "rows = []\n",
        "\n",
        "with open(filename,'r') as csvfile:\n",
        "  csvreader = csv.reader(csvfile)\n",
        "  fields = next(csvreader)\n",
        "  for row in csvreader:\n",
        "    rows.append(row)\n",
        "\n",
        "raw_data = np.matrix(np.array(rows))\n",
        "\n",
        "X = raw_data[:,1:].astype(np.float)\n",
        "\n",
        "delta = X[:,4] \n",
        "\n",
        "\n",
        "\n"
      ]
    },
    {
      "cell_type": "markdown",
      "source": [
        "2. This code block uses the matrix from the previous code block to run a least-squares error fitting model. The specific model being used assigns a weight to the last 30 days of prices to determine the next day's price."
      ],
      "metadata": {
        "id": "gzC-34b3DxOi"
      }
    },
    {
      "cell_type": "code",
      "source": [
        "\n",
        "\n",
        "A = np.zeros((336,30))\n",
        "bmarker = 0\n",
        "cr = 0\n",
        "cc = 0\n",
        "while cr < 336:\n",
        "  v = bmarker \n",
        "  while cc < 30:\n",
        "    A[cr][cc] = delta[v,0]\n",
        "    v+=1\n",
        "    cc+=1\n",
        "  cc=0\n",
        "  bmarker+=1\n",
        "  cr+=1\n",
        "\n",
        "y = delta[30:]\n",
        "x = np.arange(30,366,1)\n",
        "\n",
        "sol = np.linalg.lstsq(A,y, rcond=None)\n",
        "\n",
        "beta = sol[0]\n",
        "f = A@beta\n",
        "t = range(30,366)\n",
        "plt.plot(t,y,'.')\n",
        "plt.plot(t,f,'r')\n",
        "\n",
        "\n",
        "\n",
        "\n",
        "\n",
        "\n",
        "\n"
      ],
      "metadata": {
        "colab": {
          "base_uri": "https://localhost:8080/",
          "height": 282
        },
        "id": "d9dLSkOyPBRK",
        "outputId": "8cb5685e-89aa-4de3-becf-4112d2767918"
      },
      "execution_count": null,
      "outputs": [
        {
          "output_type": "execute_result",
          "data": {
            "text/plain": [
              "[<matplotlib.lines.Line2D at 0x7f2c0e5a3a90>]"
            ]
          },
          "metadata": {},
          "execution_count": 2
        },
        {
          "output_type": "display_data",
          "data": {
            "image/png": "[encoded data removed]",
            "text/plain": [
              "<Figure size 432x288 with 1 Axes>"
            ]
          },
          "metadata": {
            "needs_background": "light"
          }
        }
      ]
    },
    {
      "cell_type": "markdown",
      "source": [
        "3. This code block uses the model generated in the second code block to make a prediction of tomorrow's prices."
      ],
      "metadata": {
        "id": "HbLuRMtXEGb-"
      }
    },
    {
      "cell_type": "code",
      "source": [
        "td = delta[336:366,0]\n",
        "\n",
        "\n",
        "td = td.reshape(30,)\n",
        "beta = beta.reshape(30,)\n",
        "\n",
        "nxt = 0\n",
        "for i in range(0,30):\n",
        "  nxt+= beta[0,i]*td[0,i]\n",
        "\n",
        "flux = nxt- td[0,29]\n",
        "\n",
        "pct = flux/td[0,29]\n",
        "\n",
        "\n",
        "\n",
        "print(\"yesterday closing: \", td[0,29])\n",
        "print(\"projexted closing price: \", nxt)\n",
        "print(\"projected change since yesterday closing: \", flux)\n",
        "print(\"projected percent change: \", pct)\n",
        "\n",
        "\n",
        "\n",
        "\n",
        "\n",
        "\n",
        "\n",
        "\n",
        "\n"
      ],
      "metadata": {
        "colab": {
          "base_uri": "https://localhost:8080/"
        },
        "id": "4yX9MJiMv30O",
        "outputId": "35d8c6e0-87f7-47a9-a3ed-eefb9dd6ef8b"
      },
      "execution_count": null,
      "outputs": [
        {
          "output_type": "stream",
          "name": "stdout",
          "text": [
            "yesterday closing:  36577.988281\n",
            "projexted closing price:  36374.540408002904\n",
            "projected change since yesterday closing:  -203.44787299709424\n",
            "projected percent change:  -0.005562030132279659\n"
          ]
        }
      ]
    },
    {
      "cell_type": "markdown",
      "source": [
        "4. The final code block predicts the coin prices over the next year. The model is much more accurate in the short term while making a general trend in the long term."
      ],
      "metadata": {
        "id": "XE8WEpqrENTM"
      }
    },
    {
      "cell_type": "code",
      "source": [
        "from google.colab import drive\n",
        "drive.mount('/content/drive')"
      ],
      "metadata": {
        "id": "gc5LrjbTkcr7"
      },
      "execution_count": null,
      "outputs": []
    },
    {
      "cell_type": "code",
      "source": [
        "\n",
        "c = 0\n",
        "n = 0\n",
        "proj =[]\n",
        "while c < 365:\n",
        "  for i in range(0,30):\n",
        "    n+= beta[0,i]*td[0,i]\n",
        "  for i in range(0, 29):\n",
        "    td[0,i] = td[0,i+1]\n",
        "  td[0,29] = n\n",
        "  proj.append(n)\n",
        "  c+=1\n",
        "  n=0\n",
        "\n",
        "t=range(0,365)\n",
        "\n",
        "plt.plot(t,proj)\n",
        "\n",
        "\n",
        "    \n",
        "\n"
      ],
      "metadata": {
        "colab": {
          "base_uri": "https://localhost:8080/",
          "height": 282
        },
        "id": "MeX3GgbBkUjP",
        "outputId": "cf8f1181-d150-456b-d64b-bdd420f2a2b3"
      },
      "execution_count": null,
      "outputs": [
        {
          "output_type": "execute_result",
          "data": {
            "text/plain": [
              "[<matplotlib.lines.Line2D at 0x7f93abe99810>]"
            ]
          },
          "metadata": {},
          "execution_count": 9
        },
        {
          "output_type": "display_data",
          "data": {
            "image/png": "[encoded data removed]",
            "text/plain": [
              "<Figure size 432x288 with 1 Axes>"
            ]
          },
          "metadata": {
            "needs_background": "light"
          }
        }
      ]
    },
    {
      "cell_type": "code",
      "source": [
        "\n",
        "\n"
      ],
      "metadata": {
        "id": "0pXjElDfk6BM"
      },
      "execution_count": null,
      "outputs": []
    }
  ]
}